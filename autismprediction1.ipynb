{
 "cells": [
  {
   "cell_type": "code",
   "execution_count": 1,
   "id": "8d75acd0",
   "metadata": {
    "_cell_guid": "b1076dfc-b9ad-4769-8c92-a6c4dae69d19",
    "_uuid": "8f2839f25d086af736a60e9eeb907d3b93b6e0e5",
    "execution": {
     "iopub.execute_input": "2022-04-28T05:52:36.651655Z",
     "iopub.status.busy": "2022-04-28T05:52:36.651097Z",
     "iopub.status.idle": "2022-04-28T05:52:36.670370Z",
     "shell.execute_reply": "2022-04-28T05:52:36.669641Z"
    },
    "papermill": {
     "duration": 0.05479,
     "end_time": "2022-04-28T05:52:36.673424",
     "exception": false,
     "start_time": "2022-04-28T05:52:36.618634",
     "status": "completed"
    },
    "tags": []
   },
   "outputs": [
    {
     "name": "stdout",
     "output_type": "stream",
     "text": [
      "/kaggle/input/autismpredictiondata/autismtest.csv\n",
      "/kaggle/input/autismpredictiondata/autismtrain.csv\n"
     ]
    }
   ],
   "source": [
    "# This Python 3 environment comes with many helpful analytics libraries installed\n",
    "# It is defined by the kaggle/python Docker image: https://github.com/kaggle/docker-python\n",
    "# For example, here's several helpful packages to load\n",
    "\n",
    "import numpy as np # linear algebra\n",
    "import pandas as pd # data processing, CSV file I/O (e.g. pd.read_csv)\n",
    "\n",
    "# Input data files are available in the read-only \"../input/\" directory\n",
    "# For example, running this (by clicking run or pressing Shift+Enter) will list all files under the input directory\n",
    "\n",
    "import os\n",
    "for dirname, _, filenames in os.walk('/kaggle/input'):\n",
    "    for filename in filenames:\n",
    "        print(os.path.join(dirname, filename))\n",
    "\n",
    "# You can write up to 20GB to the current directory (/kaggle/working/) that gets preserved as output when you create a version using \"Save & Run All\" \n",
    "# You can also write temporary files to /kaggle/temp/, but they won't be saved outside of the current session"
   ]
  },
  {
   "cell_type": "code",
   "execution_count": 2,
   "id": "b0823440",
   "metadata": {
    "execution": {
     "iopub.execute_input": "2022-04-28T05:52:36.736165Z",
     "iopub.status.busy": "2022-04-28T05:52:36.735874Z",
     "iopub.status.idle": "2022-04-28T05:52:36.742102Z",
     "shell.execute_reply": "2022-04-28T05:52:36.741269Z"
    },
    "papermill": {
     "duration": 0.039935,
     "end_time": "2022-04-28T05:52:36.744214",
     "exception": false,
     "start_time": "2022-04-28T05:52:36.704279",
     "status": "completed"
    },
    "tags": []
   },
   "outputs": [
    {
     "name": "stdout",
     "output_type": "stream",
     "text": [
      "/kaggle/input/autismpredictiondata/autismtest.csv\n",
      "/kaggle/input/autismpredictiondata/autismtrain.csv\n"
     ]
    }
   ],
   "source": [
    "import os\n",
    "for dirname, _, filenames in os.walk('/kaggle/input'):\n",
    "    for filename in filenames:\n",
    "        print(os.path.join(dirname, filename))"
   ]
  },
  {
   "cell_type": "code",
   "execution_count": 3,
   "id": "4f37a9cc",
   "metadata": {
    "execution": {
     "iopub.execute_input": "2022-04-28T05:52:36.804362Z",
     "iopub.status.busy": "2022-04-28T05:52:36.803847Z",
     "iopub.status.idle": "2022-04-28T05:52:37.973545Z",
     "shell.execute_reply": "2022-04-28T05:52:37.972509Z"
    },
    "papermill": {
     "duration": 1.202404,
     "end_time": "2022-04-28T05:52:37.975895",
     "exception": false,
     "start_time": "2022-04-28T05:52:36.773491",
     "status": "completed"
    },
    "tags": []
   },
   "outputs": [],
   "source": [
    "# Import libraries\n",
    "import pandas as pd\n",
    "import numpy as np\n",
    "import matplotlib.pyplot as plt\n",
    "import seaborn as sns"
   ]
  },
  {
   "cell_type": "code",
   "execution_count": 4,
   "id": "a1897ddf",
   "metadata": {
    "execution": {
     "iopub.execute_input": "2022-04-28T05:52:38.035778Z",
     "iopub.status.busy": "2022-04-28T05:52:38.035473Z",
     "iopub.status.idle": "2022-04-28T05:52:38.062070Z",
     "shell.execute_reply": "2022-04-28T05:52:38.061301Z"
    },
    "papermill": {
     "duration": 0.05928,
     "end_time": "2022-04-28T05:52:38.064391",
     "exception": false,
     "start_time": "2022-04-28T05:52:38.005111",
     "status": "completed"
    },
    "tags": []
   },
   "outputs": [],
   "source": [
    "train = pd.read_csv('../input/autismpredictiondata/autismtrain.csv', na_values = ['?'])\n",
    "test = pd.read_csv('../input/autismpredictiondata/autismtest.csv', na_values = ['?'])\n"
   ]
  },
  {
   "cell_type": "markdown",
   "id": "84376805",
   "metadata": {
    "papermill": {
     "duration": 0.028427,
     "end_time": "2022-04-28T05:52:38.121754",
     "exception": false,
     "start_time": "2022-04-28T05:52:38.093327",
     "status": "completed"
    },
    "tags": []
   },
   "source": [
    "### Exploring the datasets"
   ]
  },
  {
   "cell_type": "code",
   "execution_count": 5,
   "id": "df94cda6",
   "metadata": {
    "execution": {
     "iopub.execute_input": "2022-04-28T05:52:38.180614Z",
     "iopub.status.busy": "2022-04-28T05:52:38.180344Z",
     "iopub.status.idle": "2022-04-28T05:52:38.184697Z",
     "shell.execute_reply": "2022-04-28T05:52:38.184090Z"
    },
    "papermill": {
     "duration": 0.036715,
     "end_time": "2022-04-28T05:52:38.187203",
     "exception": false,
     "start_time": "2022-04-28T05:52:38.150488",
     "status": "completed"
    },
    "tags": []
   },
   "outputs": [
    {
     "name": "stdout",
     "output_type": "stream",
     "text": [
      "(800, 22)\n",
      "(200, 21)\n"
     ]
    }
   ],
   "source": [
    "print(train.shape)\n",
    "print(test.shape)"
   ]
  },
  {
   "cell_type": "code",
   "execution_count": 6,
   "id": "e2d2bdf9",
   "metadata": {
    "execution": {
     "iopub.execute_input": "2022-04-28T05:52:38.249927Z",
     "iopub.status.busy": "2022-04-28T05:52:38.249655Z",
     "iopub.status.idle": "2022-04-28T05:52:38.254667Z",
     "shell.execute_reply": "2022-04-28T05:52:38.254057Z"
    },
    "papermill": {
     "duration": 0.038245,
     "end_time": "2022-04-28T05:52:38.256901",
     "exception": false,
     "start_time": "2022-04-28T05:52:38.218656",
     "status": "completed"
    },
    "tags": []
   },
   "outputs": [
    {
     "name": "stdout",
     "output_type": "stream",
     "text": [
      "train.columns-\n",
      " Index(['ID', 'A1_Score', 'A2_Score', 'A3_Score', 'A4_Score', 'A5_Score',\n",
      "       'A6_Score', 'A7_Score', 'A8_Score', 'A9_Score', 'A10_Score', 'age',\n",
      "       'gender', 'ethnicity', 'jaundice', 'austim', 'contry_of_res',\n",
      "       'used_app_before', 'result', 'age_desc', 'relation', 'Class/ASD'],\n",
      "      dtype='object')\n",
      "test.columns-\n",
      " Index(['ID', 'A1_Score', 'A2_Score', 'A3_Score', 'A4_Score', 'A5_Score',\n",
      "       'A6_Score', 'A7_Score', 'A8_Score', 'A9_Score', 'A10_Score', 'age',\n",
      "       'gender', 'ethnicity', 'jaundice', 'austim', 'contry_of_res',\n",
      "       'used_app_before', 'result', 'age_desc', 'relation'],\n",
      "      dtype='object')\n"
     ]
    }
   ],
   "source": [
    "print(\"train.columns-\\n\", train.columns)\n",
    "print(\"test.columns-\\n\", test.columns)"
   ]
  },
  {
   "cell_type": "code",
   "execution_count": 7,
   "id": "1ee5cb93",
   "metadata": {
    "execution": {
     "iopub.execute_input": "2022-04-28T05:52:38.319083Z",
     "iopub.status.busy": "2022-04-28T05:52:38.318364Z",
     "iopub.status.idle": "2022-04-28T05:52:38.330538Z",
     "shell.execute_reply": "2022-04-28T05:52:38.330025Z"
    },
    "papermill": {
     "duration": 0.045291,
     "end_time": "2022-04-28T05:52:38.332594",
     "exception": false,
     "start_time": "2022-04-28T05:52:38.287303",
     "status": "completed"
    },
    "tags": []
   },
   "outputs": [
    {
     "data": {
      "text/plain": [
       "ID                   0\n",
       "A1_Score             0\n",
       "A2_Score             0\n",
       "A3_Score             0\n",
       "A4_Score             0\n",
       "A5_Score             0\n",
       "A6_Score             0\n",
       "A7_Score             0\n",
       "A8_Score             0\n",
       "A9_Score             0\n",
       "A10_Score            0\n",
       "age                  0\n",
       "gender               0\n",
       "ethnicity          203\n",
       "jaundice             0\n",
       "austim               0\n",
       "contry_of_res        0\n",
       "used_app_before      0\n",
       "result               0\n",
       "age_desc             0\n",
       "relation            40\n",
       "Class/ASD            0\n",
       "dtype: int64"
      ]
     },
     "execution_count": 7,
     "metadata": {},
     "output_type": "execute_result"
    }
   ],
   "source": [
    "# Looking for NaNs, '?'\n",
    "train.isna().sum()"
   ]
  },
  {
   "cell_type": "code",
   "execution_count": 8,
   "id": "f1ffea5f",
   "metadata": {
    "execution": {
     "iopub.execute_input": "2022-04-28T05:52:38.394839Z",
     "iopub.status.busy": "2022-04-28T05:52:38.393824Z",
     "iopub.status.idle": "2022-04-28T05:52:38.403215Z",
     "shell.execute_reply": "2022-04-28T05:52:38.402391Z"
    },
    "papermill": {
     "duration": 0.042604,
     "end_time": "2022-04-28T05:52:38.405189",
     "exception": false,
     "start_time": "2022-04-28T05:52:38.362585",
     "status": "completed"
    },
    "tags": []
   },
   "outputs": [
    {
     "data": {
      "text/plain": [
       "ID                  0\n",
       "A1_Score            0\n",
       "A2_Score            0\n",
       "A3_Score            0\n",
       "A4_Score            0\n",
       "A5_Score            0\n",
       "A6_Score            0\n",
       "A7_Score            0\n",
       "A8_Score            0\n",
       "A9_Score            0\n",
       "A10_Score           0\n",
       "age                 0\n",
       "gender              0\n",
       "ethnicity          54\n",
       "jaundice            0\n",
       "austim              0\n",
       "contry_of_res       0\n",
       "used_app_before     0\n",
       "result              0\n",
       "age_desc            0\n",
       "relation            6\n",
       "dtype: int64"
      ]
     },
     "execution_count": 8,
     "metadata": {},
     "output_type": "execute_result"
    }
   ],
   "source": [
    "test.isna().sum()"
   ]
  },
  {
   "cell_type": "code",
   "execution_count": 9,
   "id": "387bf84e",
   "metadata": {
    "execution": {
     "iopub.execute_input": "2022-04-28T05:52:38.468717Z",
     "iopub.status.busy": "2022-04-28T05:52:38.468089Z",
     "iopub.status.idle": "2022-04-28T05:52:38.532902Z",
     "shell.execute_reply": "2022-04-28T05:52:38.532004Z"
    },
    "papermill": {
     "duration": 0.099193,
     "end_time": "2022-04-28T05:52:38.535294",
     "exception": false,
     "start_time": "2022-04-28T05:52:38.436101",
     "status": "completed"
    },
    "tags": []
   },
   "outputs": [
    {
     "data": {
      "text/html": [
       "<div>\n",
       "<style scoped>\n",
       "    .dataframe tbody tr th:only-of-type {\n",
       "        vertical-align: middle;\n",
       "    }\n",
       "\n",
       "    .dataframe tbody tr th {\n",
       "        vertical-align: top;\n",
       "    }\n",
       "\n",
       "    .dataframe thead th {\n",
       "        text-align: right;\n",
       "    }\n",
       "</style>\n",
       "<table border=\"1\" class=\"dataframe\">\n",
       "  <thead>\n",
       "    <tr style=\"text-align: right;\">\n",
       "      <th></th>\n",
       "      <th>ID</th>\n",
       "      <th>A1_Score</th>\n",
       "      <th>A2_Score</th>\n",
       "      <th>A3_Score</th>\n",
       "      <th>A4_Score</th>\n",
       "      <th>A5_Score</th>\n",
       "      <th>A6_Score</th>\n",
       "      <th>A7_Score</th>\n",
       "      <th>A8_Score</th>\n",
       "      <th>A9_Score</th>\n",
       "      <th>A10_Score</th>\n",
       "      <th>age</th>\n",
       "      <th>result</th>\n",
       "      <th>Class/ASD</th>\n",
       "    </tr>\n",
       "  </thead>\n",
       "  <tbody>\n",
       "    <tr>\n",
       "      <th>count</th>\n",
       "      <td>800.0000</td>\n",
       "      <td>800.000000</td>\n",
       "      <td>800.000000</td>\n",
       "      <td>800.000000</td>\n",
       "      <td>800.00000</td>\n",
       "      <td>800.000000</td>\n",
       "      <td>800.000000</td>\n",
       "      <td>800.000000</td>\n",
       "      <td>800.000000</td>\n",
       "      <td>800.000000</td>\n",
       "      <td>800.000000</td>\n",
       "      <td>800.000000</td>\n",
       "      <td>800.000000</td>\n",
       "      <td>800.000000</td>\n",
       "    </tr>\n",
       "    <tr>\n",
       "      <th>mean</th>\n",
       "      <td>400.5000</td>\n",
       "      <td>0.560000</td>\n",
       "      <td>0.530000</td>\n",
       "      <td>0.450000</td>\n",
       "      <td>0.41500</td>\n",
       "      <td>0.395000</td>\n",
       "      <td>0.303750</td>\n",
       "      <td>0.397500</td>\n",
       "      <td>0.508750</td>\n",
       "      <td>0.495000</td>\n",
       "      <td>0.617500</td>\n",
       "      <td>28.452118</td>\n",
       "      <td>8.537303</td>\n",
       "      <td>0.201250</td>\n",
       "    </tr>\n",
       "    <tr>\n",
       "      <th>std</th>\n",
       "      <td>231.0844</td>\n",
       "      <td>0.496697</td>\n",
       "      <td>0.499411</td>\n",
       "      <td>0.497805</td>\n",
       "      <td>0.49303</td>\n",
       "      <td>0.489157</td>\n",
       "      <td>0.460164</td>\n",
       "      <td>0.489687</td>\n",
       "      <td>0.500236</td>\n",
       "      <td>0.500288</td>\n",
       "      <td>0.486302</td>\n",
       "      <td>16.310966</td>\n",
       "      <td>4.807676</td>\n",
       "      <td>0.401185</td>\n",
       "    </tr>\n",
       "    <tr>\n",
       "      <th>min</th>\n",
       "      <td>1.0000</td>\n",
       "      <td>0.000000</td>\n",
       "      <td>0.000000</td>\n",
       "      <td>0.000000</td>\n",
       "      <td>0.00000</td>\n",
       "      <td>0.000000</td>\n",
       "      <td>0.000000</td>\n",
       "      <td>0.000000</td>\n",
       "      <td>0.000000</td>\n",
       "      <td>0.000000</td>\n",
       "      <td>0.000000</td>\n",
       "      <td>2.718550</td>\n",
       "      <td>-6.137748</td>\n",
       "      <td>0.000000</td>\n",
       "    </tr>\n",
       "    <tr>\n",
       "      <th>25%</th>\n",
       "      <td>200.7500</td>\n",
       "      <td>0.000000</td>\n",
       "      <td>0.000000</td>\n",
       "      <td>0.000000</td>\n",
       "      <td>0.00000</td>\n",
       "      <td>0.000000</td>\n",
       "      <td>0.000000</td>\n",
       "      <td>0.000000</td>\n",
       "      <td>0.000000</td>\n",
       "      <td>0.000000</td>\n",
       "      <td>0.000000</td>\n",
       "      <td>17.198153</td>\n",
       "      <td>5.306575</td>\n",
       "      <td>0.000000</td>\n",
       "    </tr>\n",
       "    <tr>\n",
       "      <th>50%</th>\n",
       "      <td>400.5000</td>\n",
       "      <td>1.000000</td>\n",
       "      <td>1.000000</td>\n",
       "      <td>0.000000</td>\n",
       "      <td>0.00000</td>\n",
       "      <td>0.000000</td>\n",
       "      <td>0.000000</td>\n",
       "      <td>0.000000</td>\n",
       "      <td>1.000000</td>\n",
       "      <td>0.000000</td>\n",
       "      <td>1.000000</td>\n",
       "      <td>24.848350</td>\n",
       "      <td>9.605299</td>\n",
       "      <td>0.000000</td>\n",
       "    </tr>\n",
       "    <tr>\n",
       "      <th>75%</th>\n",
       "      <td>600.2500</td>\n",
       "      <td>1.000000</td>\n",
       "      <td>1.000000</td>\n",
       "      <td>1.000000</td>\n",
       "      <td>1.00000</td>\n",
       "      <td>1.000000</td>\n",
       "      <td>1.000000</td>\n",
       "      <td>1.000000</td>\n",
       "      <td>1.000000</td>\n",
       "      <td>1.000000</td>\n",
       "      <td>1.000000</td>\n",
       "      <td>35.865429</td>\n",
       "      <td>12.514484</td>\n",
       "      <td>0.000000</td>\n",
       "    </tr>\n",
       "    <tr>\n",
       "      <th>max</th>\n",
       "      <td>800.0000</td>\n",
       "      <td>1.000000</td>\n",
       "      <td>1.000000</td>\n",
       "      <td>1.000000</td>\n",
       "      <td>1.00000</td>\n",
       "      <td>1.000000</td>\n",
       "      <td>1.000000</td>\n",
       "      <td>1.000000</td>\n",
       "      <td>1.000000</td>\n",
       "      <td>1.000000</td>\n",
       "      <td>1.000000</td>\n",
       "      <td>89.461718</td>\n",
       "      <td>15.853126</td>\n",
       "      <td>1.000000</td>\n",
       "    </tr>\n",
       "  </tbody>\n",
       "</table>\n",
       "</div>"
      ],
      "text/plain": [
       "             ID    A1_Score    A2_Score    A3_Score   A4_Score    A5_Score  \\\n",
       "count  800.0000  800.000000  800.000000  800.000000  800.00000  800.000000   \n",
       "mean   400.5000    0.560000    0.530000    0.450000    0.41500    0.395000   \n",
       "std    231.0844    0.496697    0.499411    0.497805    0.49303    0.489157   \n",
       "min      1.0000    0.000000    0.000000    0.000000    0.00000    0.000000   \n",
       "25%    200.7500    0.000000    0.000000    0.000000    0.00000    0.000000   \n",
       "50%    400.5000    1.000000    1.000000    0.000000    0.00000    0.000000   \n",
       "75%    600.2500    1.000000    1.000000    1.000000    1.00000    1.000000   \n",
       "max    800.0000    1.000000    1.000000    1.000000    1.00000    1.000000   \n",
       "\n",
       "         A6_Score    A7_Score    A8_Score    A9_Score   A10_Score         age  \\\n",
       "count  800.000000  800.000000  800.000000  800.000000  800.000000  800.000000   \n",
       "mean     0.303750    0.397500    0.508750    0.495000    0.617500   28.452118   \n",
       "std      0.460164    0.489687    0.500236    0.500288    0.486302   16.310966   \n",
       "min      0.000000    0.000000    0.000000    0.000000    0.000000    2.718550   \n",
       "25%      0.000000    0.000000    0.000000    0.000000    0.000000   17.198153   \n",
       "50%      0.000000    0.000000    1.000000    0.000000    1.000000   24.848350   \n",
       "75%      1.000000    1.000000    1.000000    1.000000    1.000000   35.865429   \n",
       "max      1.000000    1.000000    1.000000    1.000000    1.000000   89.461718   \n",
       "\n",
       "           result   Class/ASD  \n",
       "count  800.000000  800.000000  \n",
       "mean     8.537303    0.201250  \n",
       "std      4.807676    0.401185  \n",
       "min     -6.137748    0.000000  \n",
       "25%      5.306575    0.000000  \n",
       "50%      9.605299    0.000000  \n",
       "75%     12.514484    0.000000  \n",
       "max     15.853126    1.000000  "
      ]
     },
     "execution_count": 9,
     "metadata": {},
     "output_type": "execute_result"
    }
   ],
   "source": [
    "train.describe()"
   ]
  },
  {
   "cell_type": "code",
   "execution_count": 10,
   "id": "e9fc2cc0",
   "metadata": {
    "execution": {
     "iopub.execute_input": "2022-04-28T05:52:38.602300Z",
     "iopub.status.busy": "2022-04-28T05:52:38.601758Z",
     "iopub.status.idle": "2022-04-28T05:52:38.648569Z",
     "shell.execute_reply": "2022-04-28T05:52:38.647740Z"
    },
    "papermill": {
     "duration": 0.081974,
     "end_time": "2022-04-28T05:52:38.650504",
     "exception": false,
     "start_time": "2022-04-28T05:52:38.568530",
     "status": "completed"
    },
    "tags": []
   },
   "outputs": [
    {
     "data": {
      "text/html": [
       "<div>\n",
       "<style scoped>\n",
       "    .dataframe tbody tr th:only-of-type {\n",
       "        vertical-align: middle;\n",
       "    }\n",
       "\n",
       "    .dataframe tbody tr th {\n",
       "        vertical-align: top;\n",
       "    }\n",
       "\n",
       "    .dataframe thead th {\n",
       "        text-align: right;\n",
       "    }\n",
       "</style>\n",
       "<table border=\"1\" class=\"dataframe\">\n",
       "  <thead>\n",
       "    <tr style=\"text-align: right;\">\n",
       "      <th></th>\n",
       "      <th>ID</th>\n",
       "      <th>A1_Score</th>\n",
       "      <th>A2_Score</th>\n",
       "      <th>A3_Score</th>\n",
       "      <th>A4_Score</th>\n",
       "      <th>A5_Score</th>\n",
       "      <th>A6_Score</th>\n",
       "      <th>A7_Score</th>\n",
       "      <th>A8_Score</th>\n",
       "      <th>A9_Score</th>\n",
       "      <th>A10_Score</th>\n",
       "      <th>age</th>\n",
       "      <th>result</th>\n",
       "    </tr>\n",
       "  </thead>\n",
       "  <tbody>\n",
       "    <tr>\n",
       "      <th>count</th>\n",
       "      <td>200.000000</td>\n",
       "      <td>200.000000</td>\n",
       "      <td>200.000000</td>\n",
       "      <td>200.000000</td>\n",
       "      <td>200.000000</td>\n",
       "      <td>200.000000</td>\n",
       "      <td>200.000000</td>\n",
       "      <td>200.000000</td>\n",
       "      <td>200.00000</td>\n",
       "      <td>200.000000</td>\n",
       "      <td>200.000000</td>\n",
       "      <td>200.000000</td>\n",
       "      <td>200.000000</td>\n",
       "    </tr>\n",
       "    <tr>\n",
       "      <th>mean</th>\n",
       "      <td>100.500000</td>\n",
       "      <td>0.575000</td>\n",
       "      <td>0.555000</td>\n",
       "      <td>0.475000</td>\n",
       "      <td>0.425000</td>\n",
       "      <td>0.450000</td>\n",
       "      <td>0.340000</td>\n",
       "      <td>0.420000</td>\n",
       "      <td>0.54500</td>\n",
       "      <td>0.540000</td>\n",
       "      <td>0.640000</td>\n",
       "      <td>26.074568</td>\n",
       "      <td>8.671369</td>\n",
       "    </tr>\n",
       "    <tr>\n",
       "      <th>std</th>\n",
       "      <td>57.879185</td>\n",
       "      <td>0.495584</td>\n",
       "      <td>0.498213</td>\n",
       "      <td>0.500628</td>\n",
       "      <td>0.495584</td>\n",
       "      <td>0.498742</td>\n",
       "      <td>0.474898</td>\n",
       "      <td>0.494797</td>\n",
       "      <td>0.49922</td>\n",
       "      <td>0.499648</td>\n",
       "      <td>0.481205</td>\n",
       "      <td>14.517024</td>\n",
       "      <td>4.709994</td>\n",
       "    </tr>\n",
       "    <tr>\n",
       "      <th>min</th>\n",
       "      <td>1.000000</td>\n",
       "      <td>0.000000</td>\n",
       "      <td>0.000000</td>\n",
       "      <td>0.000000</td>\n",
       "      <td>0.000000</td>\n",
       "      <td>0.000000</td>\n",
       "      <td>0.000000</td>\n",
       "      <td>0.000000</td>\n",
       "      <td>0.00000</td>\n",
       "      <td>0.000000</td>\n",
       "      <td>0.000000</td>\n",
       "      <td>4.781474</td>\n",
       "      <td>-5.655613</td>\n",
       "    </tr>\n",
       "    <tr>\n",
       "      <th>25%</th>\n",
       "      <td>50.750000</td>\n",
       "      <td>0.000000</td>\n",
       "      <td>0.000000</td>\n",
       "      <td>0.000000</td>\n",
       "      <td>0.000000</td>\n",
       "      <td>0.000000</td>\n",
       "      <td>0.000000</td>\n",
       "      <td>0.000000</td>\n",
       "      <td>0.00000</td>\n",
       "      <td>0.000000</td>\n",
       "      <td>0.000000</td>\n",
       "      <td>16.152524</td>\n",
       "      <td>5.611695</td>\n",
       "    </tr>\n",
       "    <tr>\n",
       "      <th>50%</th>\n",
       "      <td>100.500000</td>\n",
       "      <td>1.000000</td>\n",
       "      <td>1.000000</td>\n",
       "      <td>0.000000</td>\n",
       "      <td>0.000000</td>\n",
       "      <td>0.000000</td>\n",
       "      <td>0.000000</td>\n",
       "      <td>0.000000</td>\n",
       "      <td>1.00000</td>\n",
       "      <td>1.000000</td>\n",
       "      <td>1.000000</td>\n",
       "      <td>22.717970</td>\n",
       "      <td>9.804165</td>\n",
       "    </tr>\n",
       "    <tr>\n",
       "      <th>75%</th>\n",
       "      <td>150.250000</td>\n",
       "      <td>1.000000</td>\n",
       "      <td>1.000000</td>\n",
       "      <td>1.000000</td>\n",
       "      <td>1.000000</td>\n",
       "      <td>1.000000</td>\n",
       "      <td>1.000000</td>\n",
       "      <td>1.000000</td>\n",
       "      <td>1.00000</td>\n",
       "      <td>1.000000</td>\n",
       "      <td>1.000000</td>\n",
       "      <td>32.004413</td>\n",
       "      <td>12.487160</td>\n",
       "    </tr>\n",
       "    <tr>\n",
       "      <th>max</th>\n",
       "      <td>200.000000</td>\n",
       "      <td>1.000000</td>\n",
       "      <td>1.000000</td>\n",
       "      <td>1.000000</td>\n",
       "      <td>1.000000</td>\n",
       "      <td>1.000000</td>\n",
       "      <td>1.000000</td>\n",
       "      <td>1.000000</td>\n",
       "      <td>1.00000</td>\n",
       "      <td>1.000000</td>\n",
       "      <td>1.000000</td>\n",
       "      <td>77.110749</td>\n",
       "      <td>15.731361</td>\n",
       "    </tr>\n",
       "  </tbody>\n",
       "</table>\n",
       "</div>"
      ],
      "text/plain": [
       "               ID    A1_Score    A2_Score    A3_Score    A4_Score    A5_Score  \\\n",
       "count  200.000000  200.000000  200.000000  200.000000  200.000000  200.000000   \n",
       "mean   100.500000    0.575000    0.555000    0.475000    0.425000    0.450000   \n",
       "std     57.879185    0.495584    0.498213    0.500628    0.495584    0.498742   \n",
       "min      1.000000    0.000000    0.000000    0.000000    0.000000    0.000000   \n",
       "25%     50.750000    0.000000    0.000000    0.000000    0.000000    0.000000   \n",
       "50%    100.500000    1.000000    1.000000    0.000000    0.000000    0.000000   \n",
       "75%    150.250000    1.000000    1.000000    1.000000    1.000000    1.000000   \n",
       "max    200.000000    1.000000    1.000000    1.000000    1.000000    1.000000   \n",
       "\n",
       "         A6_Score    A7_Score   A8_Score    A9_Score   A10_Score         age  \\\n",
       "count  200.000000  200.000000  200.00000  200.000000  200.000000  200.000000   \n",
       "mean     0.340000    0.420000    0.54500    0.540000    0.640000   26.074568   \n",
       "std      0.474898    0.494797    0.49922    0.499648    0.481205   14.517024   \n",
       "min      0.000000    0.000000    0.00000    0.000000    0.000000    4.781474   \n",
       "25%      0.000000    0.000000    0.00000    0.000000    0.000000   16.152524   \n",
       "50%      0.000000    0.000000    1.00000    1.000000    1.000000   22.717970   \n",
       "75%      1.000000    1.000000    1.00000    1.000000    1.000000   32.004413   \n",
       "max      1.000000    1.000000    1.00000    1.000000    1.000000   77.110749   \n",
       "\n",
       "           result  \n",
       "count  200.000000  \n",
       "mean     8.671369  \n",
       "std      4.709994  \n",
       "min     -5.655613  \n",
       "25%      5.611695  \n",
       "50%      9.804165  \n",
       "75%     12.487160  \n",
       "max     15.731361  "
      ]
     },
     "execution_count": 10,
     "metadata": {},
     "output_type": "execute_result"
    }
   ],
   "source": [
    "test.describe()"
   ]
  },
  {
   "cell_type": "code",
   "execution_count": 11,
   "id": "9eab01db",
   "metadata": {
    "execution": {
     "iopub.execute_input": "2022-04-28T05:52:38.717279Z",
     "iopub.status.busy": "2022-04-28T05:52:38.716705Z",
     "iopub.status.idle": "2022-04-28T05:52:38.751958Z",
     "shell.execute_reply": "2022-04-28T05:52:38.751069Z"
    },
    "papermill": {
     "duration": 0.072926,
     "end_time": "2022-04-28T05:52:38.755486",
     "exception": false,
     "start_time": "2022-04-28T05:52:38.682560",
     "status": "completed"
    },
    "tags": []
   },
   "outputs": [
    {
     "name": "stdout",
     "output_type": "stream",
     "text": [
      "\n",
      "\n",
      "Column Name - \"ID\" : \n",
      "\n",
      "1      1\n",
      "538    1\n",
      "528    1\n",
      "529    1\n",
      "530    1\n",
      "      ..\n",
      "270    1\n",
      "271    1\n",
      "272    1\n",
      "273    1\n",
      "800    1\n",
      "Name: ID, Length: 800, dtype: int64\n",
      "\n",
      "\n",
      "Column Name - \"A1_Score\" : \n",
      "\n",
      "1    448\n",
      "0    352\n",
      "Name: A1_Score, dtype: int64\n",
      "\n",
      "\n",
      "Column Name - \"A2_Score\" : \n",
      "\n",
      "1    424\n",
      "0    376\n",
      "Name: A2_Score, dtype: int64\n",
      "\n",
      "\n",
      "Column Name - \"A3_Score\" : \n",
      "\n",
      "0    440\n",
      "1    360\n",
      "Name: A3_Score, dtype: int64\n",
      "\n",
      "\n",
      "Column Name - \"A4_Score\" : \n",
      "\n",
      "0    468\n",
      "1    332\n",
      "Name: A4_Score, dtype: int64\n",
      "\n",
      "\n",
      "Column Name - \"A5_Score\" : \n",
      "\n",
      "0    484\n",
      "1    316\n",
      "Name: A5_Score, dtype: int64\n",
      "\n",
      "\n",
      "Column Name - \"A6_Score\" : \n",
      "\n",
      "0    557\n",
      "1    243\n",
      "Name: A6_Score, dtype: int64\n",
      "\n",
      "\n",
      "Column Name - \"A7_Score\" : \n",
      "\n",
      "0    482\n",
      "1    318\n",
      "Name: A7_Score, dtype: int64\n",
      "\n",
      "\n",
      "Column Name - \"A8_Score\" : \n",
      "\n",
      "1    407\n",
      "0    393\n",
      "Name: A8_Score, dtype: int64\n",
      "\n",
      "\n",
      "Column Name - \"A9_Score\" : \n",
      "\n",
      "0    404\n",
      "1    396\n",
      "Name: A9_Score, dtype: int64\n",
      "\n",
      "\n",
      "Column Name - \"A10_Score\" : \n",
      "\n",
      "1    494\n",
      "0    306\n",
      "Name: A10_Score, dtype: int64\n",
      "\n",
      "\n",
      "Column Name - \"age\" : \n",
      "\n",
      "38.172746    1\n",
      "9.349183     1\n",
      "26.412616    1\n",
      "20.258796    1\n",
      "61.860473    1\n",
      "            ..\n",
      "47.284149    1\n",
      "11.029966    1\n",
      "16.626307    1\n",
      "33.123913    1\n",
      "46.966113    1\n",
      "Name: age, Length: 800, dtype: int64\n",
      "\n",
      "\n",
      "Column Name - \"gender\" : \n",
      "\n",
      "m    530\n",
      "f    270\n",
      "Name: gender, dtype: int64\n",
      "\n",
      "\n",
      "Column Name - \"ethnicity\" : \n",
      "\n",
      "White-European     257\n",
      "Middle Eastern      97\n",
      "Asian               67\n",
      "Black               47\n",
      "South Asian         34\n",
      "Pasifika            32\n",
      "Others              29\n",
      "Latino              17\n",
      "Hispanic             9\n",
      "Turkish              5\n",
      "others               3\n",
      "Name: ethnicity, dtype: int64\n",
      "\n",
      "\n",
      "Column Name - \"jaundice\" : \n",
      "\n",
      "no     615\n",
      "yes    185\n",
      "Name: jaundice, dtype: int64\n",
      "\n",
      "\n",
      "Column Name - \"austim\" : \n",
      "\n",
      "no     669\n",
      "yes    131\n",
      "Name: austim, dtype: int64\n",
      "\n",
      "\n",
      "Column Name - \"contry_of_res\" : \n",
      "\n",
      "United States           134\n",
      "India                   108\n",
      "New Zealand              78\n",
      "United Kingdom           67\n",
      "Jordan                   55\n",
      "United Arab Emirates     40\n",
      "Australia                37\n",
      "Canada                   30\n",
      "Afghanistan              22\n",
      "Netherlands              20\n",
      "Austria                  18\n",
      "Sri Lanka                17\n",
      "Brazil                   12\n",
      "Spain                    10\n",
      "France                   10\n",
      "Kazakhstan               10\n",
      "Ireland                   9\n",
      "Iran                      8\n",
      "Russia                    7\n",
      "South Africa              6\n",
      "Italy                     6\n",
      "Bahamas                   6\n",
      "Malaysia                  6\n",
      "Viet Nam                  5\n",
      "Pakistan                  4\n",
      "China                     4\n",
      "Mexico                    4\n",
      "Nicaragua                 4\n",
      "Armenia                   4\n",
      "Azerbaijan                4\n",
      "Iraq                      4\n",
      "Aruba                     4\n",
      "Saudi Arabia              4\n",
      "AmericanSamoa             4\n",
      "Bolivia                   3\n",
      "Serbia                    3\n",
      "Ethiopia                  3\n",
      "Iceland                   3\n",
      "Germany                   3\n",
      "Ukraine                   3\n",
      "Niger                     3\n",
      "Cyprus                    2\n",
      "Sweden                    2\n",
      "Oman                      2\n",
      "Belgium                   1\n",
      "Romania                   1\n",
      "Burundi                   1\n",
      "Czech Republic            1\n",
      "Egypt                     1\n",
      "Angola                    1\n",
      "Sierra Leone              1\n",
      "Japan                     1\n",
      "Argentina                 1\n",
      "Tonga                     1\n",
      "Hong Kong                 1\n",
      "Bangladesh                1\n",
      "Name: contry_of_res, dtype: int64\n",
      "\n",
      "\n",
      "Column Name - \"used_app_before\" : \n",
      "\n",
      "no     750\n",
      "yes     50\n",
      "Name: used_app_before, dtype: int64\n",
      "\n",
      "\n",
      "Column Name - \"result\" : \n",
      "\n",
      " 6.351166     1\n",
      " 13.842880    1\n",
      " 12.649432    1\n",
      "-0.158828     1\n",
      "-0.115811     1\n",
      "             ..\n",
      " 1.629858     1\n",
      " 12.976983    1\n",
      " 12.323881    1\n",
      "-0.529654     1\n",
      " 2.243304     1\n",
      "Name: result, Length: 800, dtype: int64\n",
      "\n",
      "\n",
      "Column Name - \"age_desc\" : \n",
      "\n",
      "18 and more    800\n",
      "Name: age_desc, dtype: int64\n",
      "\n",
      "\n",
      "Column Name - \"relation\" : \n",
      "\n",
      "Self                        709\n",
      "Parent                       29\n",
      "Relative                     18\n",
      "Others                        2\n",
      "Health care professional      2\n",
      "Name: relation, dtype: int64\n",
      "\n",
      "\n",
      "Column Name - \"Class/ASD\" : \n",
      "\n",
      "0    639\n",
      "1    161\n",
      "Name: Class/ASD, dtype: int64\n"
     ]
    }
   ],
   "source": [
    "# Looking at each column of training file\n",
    "for col in train.columns:\n",
    "    print(f'\\n\\nColumn Name - \"{col}\" : \\n')\n",
    "    print(train[col].value_counts())"
   ]
  },
  {
   "cell_type": "code",
   "execution_count": 12,
   "id": "12e1cda4",
   "metadata": {
    "execution": {
     "iopub.execute_input": "2022-04-28T05:52:38.822995Z",
     "iopub.status.busy": "2022-04-28T05:52:38.822459Z",
     "iopub.status.idle": "2022-04-28T05:52:38.833124Z",
     "shell.execute_reply": "2022-04-28T05:52:38.832252Z"
    },
    "papermill": {
     "duration": 0.046859,
     "end_time": "2022-04-28T05:52:38.835362",
     "exception": false,
     "start_time": "2022-04-28T05:52:38.788503",
     "status": "completed"
    },
    "tags": []
   },
   "outputs": [],
   "source": [
    "## We notice from above cell that columns 'ethinicity' and 'relation' contain a '?', \n",
    "#let us replace '?' with mode of these columns\n",
    "mode_rel_train = train['relation']\n",
    "train['relation'] = train['relation'].fillna(train['relation'].mode())\n",
    "train['ethnicity'] = train['ethnicity'].fillna(train['ethnicity'].mode())\n",
    "\n",
    "test['relation'] = test['relation'].fillna(test['relation'].mode())\n",
    "test['ethnicity'] = test['ethnicity'].fillna(test['ethnicity'].mode())"
   ]
  },
  {
   "cell_type": "code",
   "execution_count": 13,
   "id": "4b4d2c14",
   "metadata": {
    "execution": {
     "iopub.execute_input": "2022-04-28T05:52:38.902843Z",
     "iopub.status.busy": "2022-04-28T05:52:38.902547Z",
     "iopub.status.idle": "2022-04-28T05:52:38.908931Z",
     "shell.execute_reply": "2022-04-28T05:52:38.908105Z"
    },
    "papermill": {
     "duration": 0.042716,
     "end_time": "2022-04-28T05:52:38.910713",
     "exception": false,
     "start_time": "2022-04-28T05:52:38.867997",
     "status": "completed"
    },
    "tags": []
   },
   "outputs": [],
   "source": [
    "# Since 'age_desc' column has single value, let us drop it from both train and test dataframes \n",
    "train = train.drop(['age_desc'], axis = 1)\n",
    "test = test.drop(['age_desc'], axis = 1)"
   ]
  },
  {
   "cell_type": "code",
   "execution_count": 14,
   "id": "2481fc9b",
   "metadata": {
    "execution": {
     "iopub.execute_input": "2022-04-28T05:52:38.977326Z",
     "iopub.status.busy": "2022-04-28T05:52:38.976758Z",
     "iopub.status.idle": "2022-04-28T05:52:38.995627Z",
     "shell.execute_reply": "2022-04-28T05:52:38.994916Z"
    },
    "papermill": {
     "duration": 0.054548,
     "end_time": "2022-04-28T05:52:38.997539",
     "exception": false,
     "start_time": "2022-04-28T05:52:38.942991",
     "status": "completed"
    },
    "tags": []
   },
   "outputs": [],
   "source": [
    "# Let us convert categorical columns to numerical \n",
    "train['gender'] = pd.factorize(train['gender'])[0]\n",
    "train['ethnicity'] = pd.factorize(train['ethnicity'])[0]\n",
    "train['jaundice'] = pd.factorize(train['jaundice'])[0]\n",
    "train['contry_of_res'] = pd.factorize(train['contry_of_res'])[0]\n",
    "train['used_app_before'] = pd.factorize(train['used_app_before'])[0]\n",
    "train['relation'] = pd.factorize(train['relation'])[0]\n",
    "train['austim'] = pd.factorize(train['austim'])[0]\n",
    "\n",
    "test['gender'] = pd.factorize(test['gender'])[0]\n",
    "test['ethnicity'] = pd.factorize(test['ethnicity'])[0]\n",
    "test['jaundice'] = pd.factorize(test['jaundice'])[0]\n",
    "test['contry_of_res'] = pd.factorize(test['contry_of_res'])[0]\n",
    "test['used_app_before'] = pd.factorize(test['used_app_before'])[0]\n",
    "test['relation'] = pd.factorize(test['relation'])[0]\n",
    "test['austim'] = pd.factorize(test['austim'])[0]"
   ]
  },
  {
   "cell_type": "markdown",
   "id": "a9ef3bba",
   "metadata": {
    "papermill": {
     "duration": 0.031894,
     "end_time": "2022-04-28T05:52:39.061733",
     "exception": false,
     "start_time": "2022-04-28T05:52:39.029839",
     "status": "completed"
    },
    "tags": []
   },
   "source": [
    "### Modelling"
   ]
  },
  {
   "cell_type": "code",
   "execution_count": 15,
   "id": "d1ae4383",
   "metadata": {
    "execution": {
     "iopub.execute_input": "2022-04-28T05:52:39.128379Z",
     "iopub.status.busy": "2022-04-28T05:52:39.127897Z",
     "iopub.status.idle": "2022-04-28T05:52:39.133641Z",
     "shell.execute_reply": "2022-04-28T05:52:39.133031Z"
    },
    "papermill": {
     "duration": 0.041448,
     "end_time": "2022-04-28T05:52:39.135565",
     "exception": false,
     "start_time": "2022-04-28T05:52:39.094117",
     "status": "completed"
    },
    "tags": []
   },
   "outputs": [],
   "source": [
    "## Identifying the predictors and the target columns\n",
    "## Remove ID column and Class ASD column from predictors\n",
    "## Class/ASD is the target column (last column in training file)\n",
    "\n",
    "# For training file\n",
    "X_train = train.iloc[:,1:-1]\n",
    "y_train = train.iloc[:, -1]\n",
    "\n",
    "# Same columns to use from Test file as well\n",
    "X_test = test.iloc[:,1:]"
   ]
  },
  {
   "cell_type": "code",
   "execution_count": 16,
   "id": "93e2e476",
   "metadata": {
    "execution": {
     "iopub.execute_input": "2022-04-28T05:52:39.203090Z",
     "iopub.status.busy": "2022-04-28T05:52:39.202632Z",
     "iopub.status.idle": "2022-04-28T05:52:39.477259Z",
     "shell.execute_reply": "2022-04-28T05:52:39.476364Z"
    },
    "papermill": {
     "duration": 0.311509,
     "end_time": "2022-04-28T05:52:39.479587",
     "exception": false,
     "start_time": "2022-04-28T05:52:39.168078",
     "status": "completed"
    },
    "tags": []
   },
   "outputs": [],
   "source": [
    "import numpy as np\n",
    "from sklearn.svm import SVC\n",
    "from sklearn.pipeline import make_pipeline\n",
    "from sklearn.preprocessing import StandardScaler\n",
    "from sklearn.model_selection import train_test_split\n",
    "from sklearn.metrics import accuracy_score\n",
    "\n",
    "\n",
    "## Splitting training dataset into training and test portions\n",
    "xx_train, xx_test, yy_train , yy_test = train_test_split(X_train, y_train, test_size = 0.3, random_state = 42)"
   ]
  },
  {
   "cell_type": "code",
   "execution_count": 17,
   "id": "b4904ddd",
   "metadata": {
    "execution": {
     "iopub.execute_input": "2022-04-28T05:52:39.546505Z",
     "iopub.status.busy": "2022-04-28T05:52:39.545664Z",
     "iopub.status.idle": "2022-04-28T05:52:39.571071Z",
     "shell.execute_reply": "2022-04-28T05:52:39.570085Z"
    },
    "papermill": {
     "duration": 0.061058,
     "end_time": "2022-04-28T05:52:39.573353",
     "exception": false,
     "start_time": "2022-04-28T05:52:39.512295",
     "status": "completed"
    },
    "tags": []
   },
   "outputs": [
    {
     "name": "stdout",
     "output_type": "stream",
     "text": [
      "0.8791666666666667\n"
     ]
    }
   ],
   "source": [
    "svmclf = make_pipeline(StandardScaler(), SVC(gamma='auto'))\n",
    "svmclf.fit(xx_train, yy_train)\n",
    "# Making prediction about test portion of training datafile using SVM\n",
    "yy_pred = svmclf.predict(xx_test)\n",
    "print(accuracy_score(yy_test, yy_pred))\n"
   ]
  },
  {
   "cell_type": "code",
   "execution_count": 18,
   "id": "c1c87fd4",
   "metadata": {
    "execution": {
     "iopub.execute_input": "2022-04-28T05:52:39.640818Z",
     "iopub.status.busy": "2022-04-28T05:52:39.639939Z",
     "iopub.status.idle": "2022-04-28T05:52:40.000915Z",
     "shell.execute_reply": "2022-04-28T05:52:39.999642Z"
    },
    "papermill": {
     "duration": 0.397087,
     "end_time": "2022-04-28T05:52:40.003268",
     "exception": false,
     "start_time": "2022-04-28T05:52:39.606181",
     "status": "completed"
    },
    "tags": []
   },
   "outputs": [
    {
     "name": "stdout",
     "output_type": "stream",
     "text": [
      "0.8791666666666667\n"
     ]
    }
   ],
   "source": [
    "# Making prediction about test portion of training datafile using RFC\n",
    "from sklearn.ensemble import RandomForestClassifier\n",
    "rfclf = RandomForestClassifier(max_depth=8, random_state=0)\n",
    "rfclf.fit(xx_train, yy_train)\n",
    "y_pred = rfclf.predict(xx_test)\n",
    "print(accuracy_score(yy_test, yy_pred))"
   ]
  },
  {
   "cell_type": "markdown",
   "id": "e1ddd2e7",
   "metadata": {
    "papermill": {
     "duration": 0.033277,
     "end_time": "2022-04-28T05:52:40.070382",
     "exception": false,
     "start_time": "2022-04-28T05:52:40.037105",
     "status": "completed"
    },
    "tags": []
   },
   "source": [
    "### Using Feature Selection with Recursive Feature Elimination"
   ]
  },
  {
   "cell_type": "code",
   "execution_count": 19,
   "id": "9d12fe21",
   "metadata": {
    "execution": {
     "iopub.execute_input": "2022-04-28T05:52:40.139571Z",
     "iopub.status.busy": "2022-04-28T05:52:40.139260Z",
     "iopub.status.idle": "2022-04-28T05:52:44.041018Z",
     "shell.execute_reply": "2022-04-28T05:52:44.039849Z"
    },
    "papermill": {
     "duration": 3.939986,
     "end_time": "2022-04-28T05:52:44.043691",
     "exception": false,
     "start_time": "2022-04-28T05:52:40.103705",
     "status": "completed"
    },
    "tags": []
   },
   "outputs": [
    {
     "name": "stdout",
     "output_type": "stream",
     "text": [
      "[ True False False  True  True  True  True  True  True False False  True\n",
      " False  True  True False False False False]\n",
      "[ 1  4  2  1  1  1  1  1  1  6  8  1 10  1  1  9  3  7  5]\n"
     ]
    }
   ],
   "source": [
    "from sklearn.feature_selection import RFE\n",
    "from sklearn.svm import SVR\n",
    "estimator = SVR(kernel=\"linear\")\n",
    "selector = RFE(estimator, n_features_to_select=10, step=1)\n",
    "selector = selector.fit(xx_train, yy_train)\n",
    "print(selector.support_)\n",
    "print(selector.ranking_)"
   ]
  },
  {
   "cell_type": "code",
   "execution_count": 20,
   "id": "11e77b43",
   "metadata": {
    "execution": {
     "iopub.execute_input": "2022-04-28T05:52:44.113997Z",
     "iopub.status.busy": "2022-04-28T05:52:44.113082Z",
     "iopub.status.idle": "2022-04-28T05:52:44.119863Z",
     "shell.execute_reply": "2022-04-28T05:52:44.118841Z"
    },
    "papermill": {
     "duration": 0.044015,
     "end_time": "2022-04-28T05:52:44.121995",
     "exception": false,
     "start_time": "2022-04-28T05:52:44.077980",
     "status": "completed"
    },
    "tags": []
   },
   "outputs": [],
   "source": [
    "xx_selected_train_cols  = xx_train.iloc[:,selector.support_]\n",
    "xx_selected_test_cols = xx_test.iloc[:, selector.support_]\n"
   ]
  },
  {
   "cell_type": "code",
   "execution_count": 21,
   "id": "6d124de2",
   "metadata": {
    "execution": {
     "iopub.execute_input": "2022-04-28T05:52:44.191839Z",
     "iopub.status.busy": "2022-04-28T05:52:44.190673Z",
     "iopub.status.idle": "2022-04-28T05:52:44.213553Z",
     "shell.execute_reply": "2022-04-28T05:52:44.212718Z"
    },
    "papermill": {
     "duration": 0.0607,
     "end_time": "2022-04-28T05:52:44.216467",
     "exception": false,
     "start_time": "2022-04-28T05:52:44.155767",
     "status": "completed"
    },
    "tags": []
   },
   "outputs": [
    {
     "name": "stdout",
     "output_type": "stream",
     "text": [
      "0.8833333333333333\n"
     ]
    }
   ],
   "source": [
    "# Prediction using SVM and Reduced Features on training file\n",
    "svmclf2 = make_pipeline(StandardScaler(), SVC(gamma='auto'))\n",
    "svmclf2.fit(xx_selected_train_cols, yy_train)\n",
    "yy_pred = svmclf2.predict(xx_selected_test_cols)\n",
    "print(accuracy_score(yy_test, yy_pred))"
   ]
  },
  {
   "cell_type": "code",
   "execution_count": 22,
   "id": "75d64a59",
   "metadata": {
    "execution": {
     "iopub.execute_input": "2022-04-28T05:52:44.287145Z",
     "iopub.status.busy": "2022-04-28T05:52:44.286500Z",
     "iopub.status.idle": "2022-04-28T05:52:44.308316Z",
     "shell.execute_reply": "2022-04-28T05:52:44.307104Z"
    },
    "papermill": {
     "duration": 0.059296,
     "end_time": "2022-04-28T05:52:44.310513",
     "exception": false,
     "start_time": "2022-04-28T05:52:44.251217",
     "status": "completed"
    },
    "tags": []
   },
   "outputs": [
    {
     "name": "stdout",
     "output_type": "stream",
     "text": [
      "0.8791666666666667\n"
     ]
    }
   ],
   "source": [
    "# Prediction using LR and Reduced Features on training file\n",
    "from sklearn.linear_model import LogisticRegression\n",
    "lrclf = make_pipeline(StandardScaler(), LogisticRegression(random_state=0))\n",
    "lrclf.fit(xx_selected_train_cols, yy_train)\n",
    "yy_pred = lrclf.predict(xx_selected_test_cols)\n",
    "print(accuracy_score(yy_test, yy_pred))"
   ]
  },
  {
   "cell_type": "code",
   "execution_count": 23,
   "id": "e25b7765",
   "metadata": {
    "execution": {
     "iopub.execute_input": "2022-04-28T05:52:44.381195Z",
     "iopub.status.busy": "2022-04-28T05:52:44.380342Z",
     "iopub.status.idle": "2022-04-28T05:52:44.584900Z",
     "shell.execute_reply": "2022-04-28T05:52:44.583675Z"
    },
    "papermill": {
     "duration": 0.242674,
     "end_time": "2022-04-28T05:52:44.587339",
     "exception": false,
     "start_time": "2022-04-28T05:52:44.344665",
     "status": "completed"
    },
    "tags": []
   },
   "outputs": [
    {
     "name": "stdout",
     "output_type": "stream",
     "text": [
      "0.9041666666666667\n"
     ]
    }
   ],
   "source": [
    "# Prediction using RFC and Reduced Features on training file\n",
    "from sklearn.ensemble import RandomForestClassifier\n",
    "rfclf1 = RandomForestClassifier(max_depth=4, random_state=0)\n",
    "rfclf1.fit(xx_selected_train_cols, yy_train)\n",
    "yy_pred =  rfclf1.predict(xx_selected_test_cols )\n",
    "print(accuracy_score(yy_test, yy_pred))"
   ]
  },
  {
   "cell_type": "code",
   "execution_count": 24,
   "id": "b61ce434",
   "metadata": {
    "execution": {
     "iopub.execute_input": "2022-04-28T05:52:44.658780Z",
     "iopub.status.busy": "2022-04-28T05:52:44.658182Z",
     "iopub.status.idle": "2022-04-28T05:52:44.663241Z",
     "shell.execute_reply": "2022-04-28T05:52:44.662608Z"
    },
    "papermill": {
     "duration": 0.042943,
     "end_time": "2022-04-28T05:52:44.665008",
     "exception": false,
     "start_time": "2022-04-28T05:52:44.622065",
     "status": "completed"
    },
    "tags": []
   },
   "outputs": [],
   "source": [
    "## For making predictions on the test file for submission, we will first extract the same columns as were used to\n",
    "## train the best performing RFC Classifier\n",
    "testfile_selected_cols = X_test.iloc[:, selector.support_]"
   ]
  },
  {
   "cell_type": "code",
   "execution_count": 25,
   "id": "685a12bc",
   "metadata": {
    "execution": {
     "iopub.execute_input": "2022-04-28T05:52:44.736455Z",
     "iopub.status.busy": "2022-04-28T05:52:44.736137Z",
     "iopub.status.idle": "2022-04-28T05:52:45.697979Z",
     "shell.execute_reply": "2022-04-28T05:52:45.696873Z"
    },
    "papermill": {
     "duration": 1.000903,
     "end_time": "2022-04-28T05:52:45.700243",
     "exception": false,
     "start_time": "2022-04-28T05:52:44.699340",
     "status": "completed"
    },
    "tags": []
   },
   "outputs": [
    {
     "name": "stdout",
     "output_type": "stream",
     "text": [
      "[0.8822606  0.95002616 0.91732077 0.88358586 0.86767677]\n",
      "0.9001740323168894\n"
     ]
    }
   ],
   "source": [
    "## Verifying with RFC model with cross validation\n",
    "from sklearn.model_selection import cross_val_score\n",
    "from sklearn.ensemble import RandomForestClassifier\n",
    "\n",
    "model = RandomForestClassifier(max_depth=4, random_state=0)\n",
    "scores = cross_val_score(model, xx_selected_train_cols, yy_train, scoring = 'roc_auc', cv = 5)\n",
    "print(scores)\n",
    "print(np.mean(scores))"
   ]
  },
  {
   "cell_type": "code",
   "execution_count": 26,
   "id": "3857c006",
   "metadata": {
    "execution": {
     "iopub.execute_input": "2022-04-28T05:52:45.772447Z",
     "iopub.status.busy": "2022-04-28T05:52:45.772170Z",
     "iopub.status.idle": "2022-04-28T05:52:45.798933Z",
     "shell.execute_reply": "2022-04-28T05:52:45.798106Z"
    },
    "papermill": {
     "duration": 0.065708,
     "end_time": "2022-04-28T05:52:45.801269",
     "exception": false,
     "start_time": "2022-04-28T05:52:45.735561",
     "status": "completed"
    },
    "tags": []
   },
   "outputs": [],
   "source": [
    "## Making predictions for test file using RFC trained with reduced features\n",
    "y_pred =  rfclf1.predict(testfile_selected_cols)\n",
    "submission = pd.DataFrame()\n",
    "submission['ID'] = test.ID\n",
    "submission['Class/ASD'] = y_pred\n",
    "submission.to_csv('submission.csv', index = False)"
   ]
  }
 ],
 "metadata": {
  "kernelspec": {
   "display_name": "Python 3",
   "language": "python",
   "name": "python3"
  },
  "language_info": {
   "codemirror_mode": {
    "name": "ipython",
    "version": 3
   },
   "file_extension": ".py",
   "mimetype": "text/x-python",
   "name": "python",
   "nbconvert_exporter": "python",
   "pygments_lexer": "ipython3",
   "version": "3.7.12"
  },
  "papermill": {
   "default_parameters": {},
   "duration": 19.771946,
   "end_time": "2022-04-28T05:52:46.556716",
   "environment_variables": {},
   "exception": null,
   "input_path": "__notebook__.ipynb",
   "output_path": "__notebook__.ipynb",
   "parameters": {},
   "start_time": "2022-04-28T05:52:26.784770",
   "version": "2.3.4"
  }
 },
 "nbformat": 4,
 "nbformat_minor": 5
}
